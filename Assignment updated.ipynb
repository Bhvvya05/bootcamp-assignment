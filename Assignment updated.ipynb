{
 "cells": [
  {
   "cell_type": "code",
   "execution_count": 1,
   "id": "d534f407",
   "metadata": {},
   "outputs": [],
   "source": [
    "import pandas as pd\n",
    "import re\n",
    "import API"
   ]
  },
  {
   "cell_type": "code",
   "execution_count": 2,
   "id": "44dc07b3",
   "metadata": {},
   "outputs": [
    {
     "name": "stdout",
     "output_type": "stream",
     "text": [
      "Requirement already satisfied: openai in c:\\users\\bhvvy\\anaconda3\\lib\\site-packages (0.27.8)\n",
      "Requirement already satisfied: tqdm in c:\\users\\bhvvy\\anaconda3\\lib\\site-packages (from openai) (4.64.0)\n",
      "Requirement already satisfied: requests>=2.20 in c:\\users\\bhvvy\\anaconda3\\lib\\site-packages (from openai) (2.27.1)\n",
      "Requirement already satisfied: aiohttp in c:\\users\\bhvvy\\anaconda3\\lib\\site-packages (from openai) (3.8.1)\n",
      "Requirement already satisfied: certifi>=2017.4.17 in c:\\users\\bhvvy\\anaconda3\\lib\\site-packages (from requests>=2.20->openai) (2021.10.8)\n",
      "Requirement already satisfied: charset-normalizer~=2.0.0 in c:\\users\\bhvvy\\anaconda3\\lib\\site-packages (from requests>=2.20->openai) (2.0.4)\n",
      "Requirement already satisfied: urllib3<1.27,>=1.21.1 in c:\\users\\bhvvy\\anaconda3\\lib\\site-packages (from requests>=2.20->openai) (1.26.9)\n",
      "Requirement already satisfied: idna<4,>=2.5 in c:\\users\\bhvvy\\anaconda3\\lib\\site-packages (from requests>=2.20->openai) (3.3)\n",
      "Requirement already satisfied: multidict<7.0,>=4.5 in c:\\users\\bhvvy\\anaconda3\\lib\\site-packages (from aiohttp->openai) (5.1.0)\n",
      "Requirement already satisfied: yarl<2.0,>=1.0 in c:\\users\\bhvvy\\anaconda3\\lib\\site-packages (from aiohttp->openai) (1.6.3)\n",
      "Requirement already satisfied: async-timeout<5.0,>=4.0.0a3 in c:\\users\\bhvvy\\anaconda3\\lib\\site-packages (from aiohttp->openai) (4.0.1)\n",
      "Requirement already satisfied: aiosignal>=1.1.2 in c:\\users\\bhvvy\\anaconda3\\lib\\site-packages (from aiohttp->openai) (1.2.0)\n",
      "Requirement already satisfied: frozenlist>=1.1.1 in c:\\users\\bhvvy\\anaconda3\\lib\\site-packages (from aiohttp->openai) (1.2.0)\n",
      "Requirement already satisfied: attrs>=17.3.0 in c:\\users\\bhvvy\\anaconda3\\lib\\site-packages (from aiohttp->openai) (21.4.0)\n",
      "Requirement already satisfied: typing-extensions>=3.6.5 in c:\\users\\bhvvy\\anaconda3\\lib\\site-packages (from async-timeout<5.0,>=4.0.0a3->aiohttp->openai) (4.1.1)\n",
      "Requirement already satisfied: colorama in c:\\users\\bhvvy\\anaconda3\\lib\\site-packages (from tqdm->openai) (0.4.4)\n"
     ]
    }
   ],
   "source": [
    "!pip install openai\n"
   ]
  },
  {
   "cell_type": "code",
   "execution_count": 3,
   "id": "6a5a853c",
   "metadata": {},
   "outputs": [],
   "source": [
    "import openai\n",
    "\n"
   ]
  },
  {
   "cell_type": "code",
   "execution_count": 4,
   "id": "f9cbc03f",
   "metadata": {},
   "outputs": [],
   "source": [
    "csv_files = [\n",
    "    'US_INDU_INCOME_STATEMENT_KEY.csv',\n",
    "    'US_INDU_INCOME_STATEMENT.csv',\n",
    "    'US_INDU_CASH_FLOW_STATEMENT_KEY.csv',\n",
    "    'US_INDU_CASH_FLOW_STATEMENT.csv',\n",
    "    'US_INDU_CALCULATIONS_KEY.csv',\n",
    "    'US_INDU_CALCULATIONS.csv',\n",
    "    'US_INDU_BALANCE_SHEET_STATEMENT_KEY.csv',\n",
    "    'US_INDU_BALANCE_SHEET_STATEMENT.csv'\n",
    "]\n",
    "\n",
    "data_frames = {}\n",
    "\n",
    "for csv_file in csv_files:\n",
    "    df_key = csv_file.replace('.csv', '').replace('US_INDU_', '').replace('_', ' ')\n",
    "    data_frames[df_key] = pd.read_csv(csv_file)"
   ]
  },
  {
   "cell_type": "code",
   "execution_count": null,
   "id": "10e59957",
   "metadata": {},
   "outputs": [],
   "source": []
  },
  {
   "cell_type": "code",
   "execution_count": 5,
   "id": "dc50d1fc",
   "metadata": {},
   "outputs": [],
   "source": [
    "openai.api_key = API.OPENAI_API_KEY"
   ]
  },
  {
   "cell_type": "code",
   "execution_count": null,
   "id": "93048a59",
   "metadata": {},
   "outputs": [],
   "source": []
  },
  {
   "cell_type": "code",
   "execution_count": 6,
   "id": "632a75b8",
   "metadata": {},
   "outputs": [],
   "source": [
    "def answer_question(user_question: str) -> str:\n",
    "    \n",
    "    topics = [\"Total Revenue\", \"Net Income\", \"Price to Earnings\", \"Dividend Yield\", \"Return on Equity\"]\n",
    "    response_topics = openai.Completion.create(\n",
    "        engine=\"davinci\",\n",
    "        prompt=\"Given this data answer the following user question  Data: {data}  Question: \" + user_question,\n",
    "        max_tokens=50,\n",
    "        temperature=0.6,\n",
    "    )\n",
    "    print(\"Response from OpenAI topics:\", response_topics.choices[0].text)\n",
    "    \n",
    "    matched_topic = None\n",
    "    \n",
    "   \n",
    "    for topic in topics:\n",
    "        if topic.lower() in response_topics.choices[0].text.lower():\n",
    "            matched_topic = topic\n",
    "            break\n",
    "    \n",
    "    if matched_topic is None:\n",
    "        return \"I'm sorry, I couldn't understand the question.\"\n",
    "    \n",
    "    print(\"Matched Topic:\", matched_topic)\n",
    "    \n",
    "    company_name = \"Apple\"\n",
    "    fiscal_year = \"2021\"\n",
    "    \n",
    "   \n",
    "    if matched_topic in [\"Total Revenue\", \"Net Income\"]:\n",
    "        data_df = data_frames[\"INCOME STATEMENT\"]\n",
    "        quantity_column = \"netincome\"\n",
    "    elif matched_topic == \"Price to Earnings\":\n",
    "        data_df = data_frames[\"CALCULATIONS\"]\n",
    "        quantity_column = \"pricetoearnings\"\n",
    "    elif matched_topic == \"Dividend Yield\":\n",
    "        data_df = data_frames[\"CALCULATIONS\"]\n",
    "        quantity_column = \"dividendyield\"\n",
    "    elif matched_topic == \"Return on Equity\":\n",
    "        data_df = data_frames[\"CALCULATIONS\"]\n",
    "        quantity_column = \"roe\"\n",
    "    else:\n",
    "        return \"I'm sorry, I couldn't understand the question.\"\n",
    "    \n",
    "\n",
    "    filtered_value = filter_data(data_df, company_name, fiscal_year, quantity_column)\n",
    "    print(\"Filtered Value:\", filtered_value)\n",
    "    \n",
    "    \n",
    "    response_answer = openai.Completion.create(\n",
    "        engine=\"davinci\",\n",
    "        prompt=f\"Given this data answer the following user question ## Data: {data} ## Question: \" + f\"In {fiscal_year}, {company_name} {matched_topic} was {filtered_value}.\",\n",
    "        max_tokens=50,\n",
    "        temperature=0.6,\n",
    "    )\n",
    "    final_response = response_answer.choices[0].text.strip()\n",
    "    \n",
    "    return final_response\n"
   ]
  },
  {
   "cell_type": "code",
   "execution_count": 7,
   "id": "e7864849",
   "metadata": {
    "scrolled": true
   },
   "outputs": [
    {
     "name": "stdout",
     "output_type": "stream",
     "text": [
      "Response from OpenAI topics:  ____________________________________________________________ ____________________________________________________________ ____________________________________________________________ ____________________________________________________________ ____________________________________________________________ ____________________________________________________________ ____________________________________________________________ ____________________________________________________________ ____________________________________________________________ ____________________________________________________________ ____________________________________________________________ ____________________________________________________________ ________________________________\n",
      "I'm sorry, I couldn't understand the question.\n"
     ]
    }
   ],
   "source": [
    "user_question = \"In 2021, how much profit did Apple generate from its shareholders' equity?\"\n",
    "response = answer_question(user_question)\n",
    "print(response)\n"
   ]
  },
  {
   "cell_type": "code",
   "execution_count": null,
   "id": "7489a0ba",
   "metadata": {},
   "outputs": [],
   "source": []
  }
 ],
 "metadata": {
  "kernelspec": {
   "display_name": "Python 3 (ipykernel)",
   "language": "python",
   "name": "python3"
  },
  "language_info": {
   "codemirror_mode": {
    "name": "ipython",
    "version": 3
   },
   "file_extension": ".py",
   "mimetype": "text/x-python",
   "name": "python",
   "nbconvert_exporter": "python",
   "pygments_lexer": "ipython3",
   "version": "3.9.12"
  }
 },
 "nbformat": 4,
 "nbformat_minor": 5
}
